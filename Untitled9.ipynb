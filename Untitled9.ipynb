{
 "cells": [
  {
   "cell_type": "code",
   "execution_count": 3,
   "id": "95eb6d90",
   "metadata": {},
   "outputs": [
    {
     "name": "stdout",
     "output_type": "stream",
     "text": [
      "jsnxjsnsjx\n"
     ]
    }
   ],
   "source": [
    "a = \"jsnxjsnsjx\"\n",
    "print(a)"
   ]
  },
  {
   "cell_type": "code",
   "execution_count": null,
   "id": "d4754f4a",
   "metadata": {},
   "outputs": [],
   "source": [
    "class car:\n",
    "    def __init__(self, milage , year, build , engine, tyres):\n",
    "        self.milage = milage\n",
    "        self.year = year\n",
    "        self.build = build\n",
    "        self.engine = engine\n",
    "        self.tyres = tyres"
   ]
  },
  {
   "cell_type": "code",
   "execution_count": 8,
   "id": "a9bfb8e9",
   "metadata": {},
   "outputs": [
    {
     "ename": "NameError",
     "evalue": "name 'car' is not defined",
     "output_type": "error",
     "traceback": [
      "\u001b[1;31m---------------------------------------------------------------------------\u001b[0m",
      "\u001b[1;31mNameError\u001b[0m                                 Traceback (most recent call last)",
      "\u001b[1;32m~\\AppData\\Local\\Temp/ipykernel_13108/3938849951.py\u001b[0m in \u001b[0;36m<module>\u001b[1;34m\u001b[0m\n\u001b[1;32m----> 1\u001b[1;33m \u001b[0mscorpio\u001b[0m \u001b[1;33m=\u001b[0m \u001b[0mcar\u001b[0m\u001b[1;33m(\u001b[0m\u001b[1;36m23\u001b[0m\u001b[1;33m,\u001b[0m\u001b[1;36m2020\u001b[0m\u001b[1;33m,\u001b[0m\u001b[1;34m\"superb\"\u001b[0m\u001b[1;33m,\u001b[0m \u001b[1;34m\"KwaTe28\"\u001b[0m \u001b[1;33m,\u001b[0m\u001b[1;34m\"perfect\"\u001b[0m\u001b[1;33m)\u001b[0m\u001b[1;33m\u001b[0m\u001b[1;33m\u001b[0m\u001b[0m\n\u001b[0m\u001b[0;32m      2\u001b[0m \u001b[0mfortuner\u001b[0m \u001b[1;33m=\u001b[0m \u001b[0mcar\u001b[0m\u001b[1;33m(\u001b[0m\u001b[1;36m10\u001b[0m \u001b[1;33m,\u001b[0m \u001b[1;36m2020\u001b[0m\u001b[1;33m,\u001b[0m \u001b[1;34m\"excellent\"\u001b[0m \u001b[1;33m,\u001b[0m \u001b[1;34m\"JSnsn123\"\u001b[0m \u001b[1;33m,\u001b[0m \u001b[1;34m\"Exquisite\"\u001b[0m\u001b[1;33m)\u001b[0m\u001b[1;33m\u001b[0m\u001b[1;33m\u001b[0m\u001b[0m\n",
      "\u001b[1;31mNameError\u001b[0m: name 'car' is not defined"
     ]
    }
   ],
   "source": [
    "scorpio = car(23,2020,\"superb\", \"KwaTe28\" ,\"perfect\")\n",
    "fortuner = car(10 , 2020, \"excellent\" , \"JSnsn123\" , \"Exquisite\")"
   ]
  },
  {
   "cell_type": "code",
   "execution_count": 12,
   "id": "43fe70a5",
   "metadata": {},
   "outputs": [
    {
     "ename": "NameError",
     "evalue": "name 'scorpio' is not defined",
     "output_type": "error",
     "traceback": [
      "\u001b[1;31m---------------------------------------------------------------------------\u001b[0m",
      "\u001b[1;31mNameError\u001b[0m                                 Traceback (most recent call last)",
      "\u001b[1;32m~\\AppData\\Local\\Temp/ipykernel_13108/3037078370.py\u001b[0m in \u001b[0;36m<module>\u001b[1;34m\u001b[0m\n\u001b[1;32m----> 1\u001b[1;33m \u001b[0mprint\u001b[0m\u001b[1;33m(\u001b[0m\u001b[0mscorpio\u001b[0m\u001b[1;33m.\u001b[0m\u001b[0mengine\u001b[0m\u001b[1;33m)\u001b[0m\u001b[1;33m\u001b[0m\u001b[1;33m\u001b[0m\u001b[0m\n\u001b[0m",
      "\u001b[1;31mNameError\u001b[0m: name 'scorpio' is not defined"
     ]
    }
   ],
   "source": [
    "print(scorpio.engine)"
   ]
  },
  {
   "cell_type": "code",
   "execution_count": null,
   "id": "ff0c9530",
   "metadata": {},
   "outputs": [],
   "source": [
    "class car:\n",
    "    def __init__(self, milage , year, build , engine, tyres):\n",
    "        self.milage = milage\n",
    "        self.year = year\n",
    "        self.build = build\n",
    "        self.engine = engine\n",
    "        self.tyres = tyres"
   ]
  },
  {
   "cell_type": "code",
   "execution_count": null,
   "id": "31849797",
   "metadata": {},
   "outputs": [],
   "source": [
    "nano1 = car(23,2020,\"superb\", \"KwaTe28\" ,\"perfect\")\n",
    "fortuner = car(10 , 2020, \"excellent\" , \"JSnsn123\" , \"Exquisite\")"
   ]
  },
  {
   "cell_type": "code",
   "execution_count": 11,
   "id": "b9645a47",
   "metadata": {},
   "outputs": [
    {
     "ename": "NameError",
     "evalue": "name 'nano1' is not defined",
     "output_type": "error",
     "traceback": [
      "\u001b[1;31m---------------------------------------------------------------------------\u001b[0m",
      "\u001b[1;31mNameError\u001b[0m                                 Traceback (most recent call last)",
      "\u001b[1;32m~\\AppData\\Local\\Temp/ipykernel_13108/719882263.py\u001b[0m in \u001b[0;36m<module>\u001b[1;34m\u001b[0m\n\u001b[1;32m----> 1\u001b[1;33m \u001b[0mnano1\u001b[0m\u001b[1;33m.\u001b[0m\u001b[0myear\u001b[0m\u001b[1;33m\u001b[0m\u001b[1;33m\u001b[0m\u001b[0m\n\u001b[0m",
      "\u001b[1;31mNameError\u001b[0m: name 'nano1' is not defined"
     ]
    }
   ],
   "source": [
    "nano1.year"
   ]
  },
  {
   "cell_type": "code",
   "execution_count": 14,
   "id": "cdbca4d0",
   "metadata": {},
   "outputs": [
    {
     "name": "stdout",
     "output_type": "stream",
     "text": [
      "The Engine of this car is :JJHHH121 \n",
      "The build of this car is :njhj12\n",
      "The Engine of this car is :ZJFF123 \n",
      "The build of this car is :jnjj122321,\n"
     ]
    }
   ],
   "source": [
    "class car:\n",
    "    def __init__(self,mileage, year, build, engine):\n",
    "        self.mileage = mileage\n",
    "        self.year = year\n",
    "        self.build = build\n",
    "        self.engine = engine\n",
    "\n",
    "mahindra = car(10, 2020, \"njhj12\" , \"JJHHH121\")\n",
    "ford = car(5, 2021, \"jnjj122321,\", \"ZJFF123\")\n",
    "\n",
    "print(f\"The Engine of this car is :{mahindra.engine} \\nThe build of this car is :{mahindra.build}\")\n",
    "print(f\"The Engine of this car is :{ford.engine} \\nThe build of this car is :{ford.build}\")"
   ]
  },
  {
   "cell_type": "code",
   "execution_count": 29,
   "id": "da6e27c1",
   "metadata": {},
   "outputs": [
    {
     "name": "stdout",
     "output_type": "stream",
     "text": [
      "Employee is created!\n",
      "The name of the employee is Harry\n",
      "The salary of the employee is 100\n",
      "The subunit of the employee is YouTube\n",
      "Salary for this employee working in : Google- is : 100\n",
      "The date of your joining is : 21 of July\n",
      "Good Morning, Sir\n",
      "The time is 9'AM in the morning\n",
      "Hey , Congratulations you are selected for this job\n"
     ]
    }
   ],
   "source": [
    "class Employee:\n",
    "    company = \"Google\"\n",
    "\n",
    "    def __init__(self, name, salary, subunit, joining_date):\n",
    "        self.name = name\n",
    "        self.salary = salary\n",
    "        self.subunit = subunit\n",
    "        self.joining_date = joining_date\n",
    "        print(\"Employee is created!\") \n",
    "\n",
    "    def getDetails(self):\n",
    "        print(f\"The name of the employee is {self.name}\")\n",
    "        print(f\"The salary of the employee is {self.salary}\")\n",
    "        print(f\"The subunit of the employee is {self.subunit}\")\n",
    "\n",
    "    def getSalary(self):\n",
    "        print(f\"Salary for this employee working in : {self.company}- is : {self.salary}\")\n",
    "        \n",
    "    def date_of_joining(self):\n",
    "        print(f\"The date of your joining is : {self.joining_date}\")\n",
    "\n",
    "    @staticmethod\n",
    "    def greet():\n",
    "        print(\"Good Morning, Sir\")\n",
    "\n",
    "    @staticmethod\n",
    "    def time():\n",
    "        print(\"The time is 9'AM in the morning\")\n",
    "        \n",
    "    @staticmethod\n",
    "    def congratulations():\n",
    "        print(\"Hey , Congratulations you are selected for this job\")\n",
    "\n",
    "harry = Employee(\"Harry\", 100, \"YouTube\" ,\"21 of July\")\n",
    "# harry = Employee() --> This throws an error (missing 3 required positional arguments:)\n",
    "harry.getDetails()\n",
    "harry.getSalary()\n",
    "harry.date_of_joining()              \n",
    "harry.greet()\n",
    "harry.time()\n",
    "harry.congratulations()"
   ]
  },
  {
   "cell_type": "code",
   "execution_count": null,
   "id": "f51e41d8",
   "metadata": {},
   "outputs": [],
   "source": []
  },
  {
   "cell_type": "code",
   "execution_count": null,
   "id": "690659bd",
   "metadata": {},
   "outputs": [],
   "source": []
  },
  {
   "cell_type": "code",
   "execution_count": null,
   "id": "35d32933",
   "metadata": {},
   "outputs": [],
   "source": []
  },
  {
   "cell_type": "code",
   "execution_count": null,
   "id": "2d4a3024",
   "metadata": {},
   "outputs": [],
   "source": []
  },
  {
   "cell_type": "code",
   "execution_count": null,
   "id": "12454fe3",
   "metadata": {},
   "outputs": [],
   "source": []
  }
 ],
 "metadata": {
  "kernelspec": {
   "display_name": "Python 3 (ipykernel)",
   "language": "python",
   "name": "python3"
  },
  "language_info": {
   "codemirror_mode": {
    "name": "ipython",
    "version": 3
   },
   "file_extension": ".py",
   "mimetype": "text/x-python",
   "name": "python",
   "nbconvert_exporter": "python",
   "pygments_lexer": "ipython3",
   "version": "3.9.7"
  }
 },
 "nbformat": 4,
 "nbformat_minor": 5
}
