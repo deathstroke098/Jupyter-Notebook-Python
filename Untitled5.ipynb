{
 "cells": [
  {
   "cell_type": "code",
   "execution_count": 17,
   "id": "7dc4c79a",
   "metadata": {},
   "outputs": [
    {
     "name": "stdout",
     "output_type": "stream",
     "text": [
      "what exactly do you mean\n",
      "Lets see Paul Aleen's card \n",
      "I have to return some video tapes\n"
     ]
    }
   ],
   "source": [
    "def function1():\n",
    "    print(\"what exactly do you mean\")\n",
    "    print(\"Lets see Paul Aleen's card \")\n",
    "    print(\"I have to return some video tapes\")\n",
    "\n",
    "function1()"
   ]
  },
  {
   "cell_type": "code",
   "execution_count": null,
   "id": "9b874124",
   "metadata": {},
   "outputs": [],
   "source": [
    "def function3(x , y ):\n",
    "    return x * y , x*2 , y*3\n",
    "a = function3(2, 3 )\n",
    "print(a)\n",
    "type(a)"
   ]
  },
  {
   "cell_type": "code",
   "execution_count": null,
   "id": "c7a367fe",
   "metadata": {},
   "outputs": [],
   "source": [
    "# miles to kms convertor\n",
    "def miles_to_kms(miles):\n",
    "    return miles * 1.609\n",
    "\n"
   ]
  },
  {
   "cell_type": "code",
   "execution_count": null,
   "id": "80331c45",
   "metadata": {},
   "outputs": [],
   "source": [
    "def test(name , mail_id):\n",
    "    conc = name + mail_id\n",
    "    return name , mail_id , conc\n",
    "test(name , mail_id)"
   ]
  },
  {
   "cell_type": "code",
   "execution_count": null,
   "id": "aee422be",
   "metadata": {},
   "outputs": [],
   "source": []
  },
  {
   "cell_type": "code",
   "execution_count": null,
   "id": "3e7509c1",
   "metadata": {},
   "outputs": [],
   "source": []
  },
  {
   "cell_type": "code",
   "execution_count": null,
   "id": "6e9d8d39",
   "metadata": {},
   "outputs": [],
   "source": []
  },
  {
   "cell_type": "code",
   "execution_count": null,
   "id": "077641b9",
   "metadata": {},
   "outputs": [],
   "source": []
  },
  {
   "cell_type": "code",
   "execution_count": null,
   "id": "89fc478d",
   "metadata": {},
   "outputs": [],
   "source": []
  },
  {
   "cell_type": "code",
   "execution_count": null,
   "id": "de0c9ce0",
   "metadata": {},
   "outputs": [],
   "source": []
  },
  {
   "cell_type": "code",
   "execution_count": null,
   "id": "02d808ef",
   "metadata": {},
   "outputs": [],
   "source": []
  }
 ],
 "metadata": {
  "kernelspec": {
   "display_name": "Python 3 (ipykernel)",
   "language": "python",
   "name": "python3"
  },
  "language_info": {
   "codemirror_mode": {
    "name": "ipython",
    "version": 3
   },
   "file_extension": ".py",
   "mimetype": "text/x-python",
   "name": "python",
   "nbconvert_exporter": "python",
   "pygments_lexer": "ipython3",
   "version": "3.9.7"
  }
 },
 "nbformat": 4,
 "nbformat_minor": 5
}
