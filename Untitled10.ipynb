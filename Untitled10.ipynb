{
 "cells": [
  {
   "cell_type": "code",
   "execution_count": 1,
   "id": "007aada3",
   "metadata": {},
   "outputs": [
    {
     "ename": "AttributeError",
     "evalue": "'data' object has no attribute 'filename'",
     "output_type": "error",
     "traceback": [
      "\u001b[1;31m---------------------------------------------------------------------------\u001b[0m",
      "\u001b[1;31mAttributeError\u001b[0m                            Traceback (most recent call last)",
      "\u001b[1;32m~\\AppData\\Local\\Temp/ipykernel_7796/2359352698.py\u001b[0m in \u001b[0;36m<module>\u001b[1;34m\u001b[0m\n\u001b[0;32m     22\u001b[0m \u001b[1;33m\u001b[0m\u001b[0m\n\u001b[0;32m     23\u001b[0m \u001b[0mf1\u001b[0m \u001b[1;33m=\u001b[0m \u001b[0mdata\u001b[0m\u001b[1;33m(\u001b[0m\u001b[1;34m\"file12\"\u001b[0m \u001b[1;33m,\u001b[0m \u001b[1;34m\"ipynb\"\u001b[0m\u001b[1;33m,\u001b[0m \u001b[1;34m\"DATA\"\u001b[0m \u001b[1;33m,\u001b[0m \u001b[1;34m\"2MB\"\u001b[0m\u001b[1;33m)\u001b[0m\u001b[1;33m\u001b[0m\u001b[1;33m\u001b[0m\u001b[0m\n\u001b[1;32m---> 24\u001b[1;33m \u001b[0mf1\u001b[0m\u001b[1;33m.\u001b[0m\u001b[0mfile_open\u001b[0m\u001b[1;33m(\u001b[0m\u001b[1;33m)\u001b[0m\u001b[1;33m\u001b[0m\u001b[1;33m\u001b[0m\u001b[0m\n\u001b[0m\u001b[0;32m     25\u001b[0m \u001b[0mf1\u001b[0m\u001b[1;33m.\u001b[0m\u001b[0mfile_read\u001b[0m\u001b[1;33m(\u001b[0m\u001b[1;33m)\u001b[0m\u001b[1;33m\u001b[0m\u001b[1;33m\u001b[0m\u001b[0m\n\u001b[0;32m     26\u001b[0m \u001b[0mf1\u001b[0m\u001b[1;33m.\u001b[0m\u001b[0mfile_append\u001b[0m\u001b[1;33m(\u001b[0m\u001b[1;33m)\u001b[0m\u001b[1;33m\u001b[0m\u001b[1;33m\u001b[0m\u001b[0m\n",
      "\u001b[1;32m~\\AppData\\Local\\Temp/ipykernel_7796/2359352698.py\u001b[0m in \u001b[0;36mfile_open\u001b[1;34m(self)\u001b[0m\n\u001b[0;32m      7\u001b[0m \u001b[1;33m\u001b[0m\u001b[0m\n\u001b[0;32m      8\u001b[0m     \u001b[1;32mdef\u001b[0m \u001b[0mfile_open\u001b[0m\u001b[1;33m(\u001b[0m\u001b[0mself\u001b[0m\u001b[1;33m)\u001b[0m\u001b[1;33m:\u001b[0m\u001b[1;33m\u001b[0m\u001b[1;33m\u001b[0m\u001b[0m\n\u001b[1;32m----> 9\u001b[1;33m         \u001b[0mf\u001b[0m \u001b[1;33m=\u001b[0m \u001b[0mopen\u001b[0m\u001b[1;33m(\u001b[0m\u001b[0mself\u001b[0m\u001b[1;33m.\u001b[0m\u001b[0mfilename\u001b[0m \u001b[1;33m,\u001b[0m \u001b[1;34m\"w\"\u001b[0m\u001b[1;33m)\u001b[0m\u001b[1;33m\u001b[0m\u001b[1;33m\u001b[0m\u001b[0m\n\u001b[0m\u001b[0;32m     10\u001b[0m         \u001b[0mf\u001b[0m\u001b[1;33m.\u001b[0m\u001b[0mwrite\u001b[0m\u001b[1;33m(\u001b[0m\u001b[1;34m\"I'm writing something inside the file\"\u001b[0m\u001b[1;33m)\u001b[0m\u001b[1;33m\u001b[0m\u001b[1;33m\u001b[0m\u001b[0m\n\u001b[0;32m     11\u001b[0m         \u001b[0mf\u001b[0m\u001b[1;33m.\u001b[0m\u001b[0mclose\u001b[0m\u001b[1;33m(\u001b[0m\u001b[1;33m)\u001b[0m\u001b[1;33m\u001b[0m\u001b[1;33m\u001b[0m\u001b[0m\n",
      "\u001b[1;31mAttributeError\u001b[0m: 'data' object has no attribute 'filename'"
     ]
    }
   ],
   "source": [
    "class data:\n",
    "    def __init__(self, file_name, file_type, date, size):\n",
    "        self.file_name = file_name\n",
    "        self.file_type = file_type\n",
    "        self.date = date\n",
    "        self.size = size\n",
    "        \n",
    "    def file_open(self):\n",
    "        f = open(self.filename , \"w\")\n",
    "        f.write(\"I'm writing something inside the file\")\n",
    "        f.close()\n",
    "        \n",
    "    def file_read(self):\n",
    "        f= open(self.filename, \"r\")\n",
    "        print(f.read())\n",
    "        f.close()\n",
    "        \n",
    "    def file_append(self):\n",
    "        f= open(self.filename , \"a\")\n",
    "        f.append(\"I'm appending something here to a file\")\n",
    "        f.close()\n",
    "        \n",
    "f1 = data(\"file12\" , \"ipynb\", \"DATA\" , \"2MB\")\n",
    "f1.file_open()\n",
    "f1.file_read()\n",
    "f1.file_append()"
   ]
  },
  {
   "cell_type": "code",
   "execution_count": 2,
   "id": "6e6ce26c",
   "metadata": {},
   "outputs": [
    {
     "ename": "AttributeError",
     "evalue": "'data' object has no attribute 'filename'",
     "output_type": "error",
     "traceback": [
      "\u001b[1;31m---------------------------------------------------------------------------\u001b[0m",
      "\u001b[1;31mAttributeError\u001b[0m                            Traceback (most recent call last)",
      "\u001b[1;32m~\\AppData\\Local\\Temp/ipykernel_7796/124932176.py\u001b[0m in \u001b[0;36m<module>\u001b[1;34m\u001b[0m\n\u001b[0;32m     22\u001b[0m \u001b[1;33m\u001b[0m\u001b[0m\n\u001b[0;32m     23\u001b[0m \u001b[0mf1\u001b[0m \u001b[1;33m=\u001b[0m \u001b[0mdata\u001b[0m\u001b[1;33m(\u001b[0m\u001b[1;34m\"file1\"\u001b[0m \u001b[1;33m,\u001b[0m \u001b[1;34m\"ipynb\"\u001b[0m\u001b[1;33m,\u001b[0m \u001b[1;34m\"DATA\"\u001b[0m \u001b[1;33m,\u001b[0m \u001b[1;34m\"2MB\"\u001b[0m\u001b[1;33m)\u001b[0m\u001b[1;33m\u001b[0m\u001b[1;33m\u001b[0m\u001b[0m\n\u001b[1;32m---> 24\u001b[1;33m \u001b[0mf1\u001b[0m\u001b[1;33m.\u001b[0m\u001b[0mfile_open\u001b[0m\u001b[1;33m(\u001b[0m\u001b[1;33m)\u001b[0m\u001b[1;33m\u001b[0m\u001b[1;33m\u001b[0m\u001b[0m\n\u001b[0m\u001b[0;32m     25\u001b[0m \u001b[0mf1\u001b[0m\u001b[1;33m.\u001b[0m\u001b[0mfile_read\u001b[0m\u001b[1;33m(\u001b[0m\u001b[1;33m)\u001b[0m\u001b[1;33m\u001b[0m\u001b[1;33m\u001b[0m\u001b[0m\n\u001b[0;32m     26\u001b[0m \u001b[0mf1\u001b[0m\u001b[1;33m.\u001b[0m\u001b[0mfile_append\u001b[0m\u001b[1;33m(\u001b[0m\u001b[1;33m)\u001b[0m\u001b[1;33m\u001b[0m\u001b[1;33m\u001b[0m\u001b[0m\n",
      "\u001b[1;32m~\\AppData\\Local\\Temp/ipykernel_7796/124932176.py\u001b[0m in \u001b[0;36mfile_open\u001b[1;34m(self)\u001b[0m\n\u001b[0;32m      7\u001b[0m \u001b[1;33m\u001b[0m\u001b[0m\n\u001b[0;32m      8\u001b[0m     \u001b[1;32mdef\u001b[0m \u001b[0mfile_open\u001b[0m\u001b[1;33m(\u001b[0m\u001b[0mself\u001b[0m\u001b[1;33m)\u001b[0m\u001b[1;33m:\u001b[0m\u001b[1;33m\u001b[0m\u001b[1;33m\u001b[0m\u001b[0m\n\u001b[1;32m----> 9\u001b[1;33m         \u001b[0mf\u001b[0m \u001b[1;33m=\u001b[0m \u001b[0mopen\u001b[0m\u001b[1;33m(\u001b[0m\u001b[0mself\u001b[0m\u001b[1;33m.\u001b[0m\u001b[0mfilename\u001b[0m \u001b[1;33m,\u001b[0m \u001b[1;34m\"w\"\u001b[0m\u001b[1;33m)\u001b[0m\u001b[1;33m\u001b[0m\u001b[1;33m\u001b[0m\u001b[0m\n\u001b[0m\u001b[0;32m     10\u001b[0m         \u001b[0mf\u001b[0m\u001b[1;33m.\u001b[0m\u001b[0mwrite\u001b[0m\u001b[1;33m(\u001b[0m\u001b[1;34m\"I'm writing something inside the file\"\u001b[0m\u001b[1;33m)\u001b[0m\u001b[1;33m\u001b[0m\u001b[1;33m\u001b[0m\u001b[0m\n\u001b[0;32m     11\u001b[0m         \u001b[0mf\u001b[0m\u001b[1;33m.\u001b[0m\u001b[0mclose\u001b[0m\u001b[1;33m(\u001b[0m\u001b[1;33m)\u001b[0m\u001b[1;33m\u001b[0m\u001b[1;33m\u001b[0m\u001b[0m\n",
      "\u001b[1;31mAttributeError\u001b[0m: 'data' object has no attribute 'filename'"
     ]
    }
   ],
   "source": [
    "class data:\n",
    "    def __init__(self, file_name, file_type, date, size):\n",
    "        self.file_name = file_name\n",
    "        self.file_type = file_type\n",
    "        self.date = date\n",
    "        self.size = size\n",
    "        \n",
    "    def file_open(self):\n",
    "        f = open(self.filename , \"w\")\n",
    "        f.write(\"I'm writing something inside the file\")\n",
    "        f.close()\n",
    "        \n",
    "    def file_read(self):\n",
    "        f= open(self.filename, \"r\")\n",
    "        print(f.read())\n",
    "        f.close()\n",
    "        \n",
    "    def file_append(self):\n",
    "        f= open(self.filename , \"a\")\n",
    "        f.append(\"I'm appending something here to a file\")\n",
    "        f.close()\n",
    "        \n",
    "f1 = data(\"file1\" , \"ipynb\", \"DATA\" , \"2MB\")\n",
    "f1.file_open()\n",
    "f1.file_read()\n",
    "f1.file_append()"
   ]
  },
  {
   "cell_type": "code",
   "execution_count": 5,
   "id": "7ddffb64",
   "metadata": {},
   "outputs": [
    {
     "name": "stdout",
     "output_type": "stream",
     "text": [
      "I'm writing something inside the file\n"
     ]
    }
   ],
   "source": [
    "class data:\n",
    "    def __init__(self, file_name, file_type, date, size):\n",
    "        self.file_name = file_name\n",
    "        self.file_type = file_type\n",
    "        self.date = date\n",
    "        self.size = size\n",
    "        \n",
    "    def file_open(self):\n",
    "        f = open(self.file_name , \"w\")\n",
    "        f.write(\"I'm writing something inside the file\")\n",
    "        f.close()\n",
    "        \n",
    "    def file_read(self):\n",
    "        f= open(self.file_name, \"r\")\n",
    "        print(f.read())\n",
    "        f.close()\n",
    "        \n",
    "    def file_append(self):\n",
    "        f= open(self.file_name , \"a\")\n",
    "        f.write(\"I'm appending something here to a file\")\n",
    "        f.close()\n",
    "        \n",
    "f1 = data(\"file1\" , \"ipynb\", \"DATA\" , \"2MB\")\n",
    "f1.file_open()\n",
    "f1.file_read()\n",
    "f1.file_append()"
   ]
  },
  {
   "cell_type": "code",
   "execution_count": 9,
   "id": "f4fe6dca",
   "metadata": {},
   "outputs": [
    {
     "name": "stdout",
     "output_type": "stream",
     "text": [
      "Battlefield 2042\n"
     ]
    }
   ],
   "source": [
    "class Person:\n",
    "  def __init__(self, fname, lname):\n",
    "    self.firstname = fname\n",
    "    self.lastname = lname\n",
    "\n",
    "  def printname(self):\n",
    "    print(self.firstname, self.lastname)\n",
    "\n",
    "#Use the Person class to create an object, and then execute the printname method:\n",
    "\n",
    "x = Person(\"Battlefield\", \"2042\")\n",
    "x.printname()"
   ]
  },
  {
   "cell_type": "code",
   "execution_count": 16,
   "id": "c1dd061a",
   "metadata": {},
   "outputs": [],
   "source": [
    "class Student(Person):\n",
    "  pass"
   ]
  },
  {
   "cell_type": "code",
   "execution_count": 17,
   "id": "de75dcca",
   "metadata": {},
   "outputs": [
    {
     "name": "stdout",
     "output_type": "stream",
     "text": [
      "Spider Man\n"
     ]
    }
   ],
   "source": [
    "x = Student(\"Spider\", \"Man\")\n",
    "x.printname()"
   ]
  },
  {
   "cell_type": "code",
   "execution_count": 30,
   "id": "fd69236f",
   "metadata": {},
   "outputs": [
    {
     "name": "stdout",
     "output_type": "stream",
     "text": [
      "This belongs to test\n",
      "This belongs to test1\n",
      "this belongs to test2\n",
      "This belongs to test\n"
     ]
    }
   ],
   "source": [
    "class test:\n",
    "    def a(self):\n",
    "        print(\"This belongs to test\")\n",
    "\n",
    "class test1:\n",
    "    def b(self):\n",
    "        print(\"This belongs to test1\")\n",
    "\n",
    "class test2(test , test1):\n",
    "    t1 = test()\n",
    "    t1.a()\n",
    "    t2 = test1()\n",
    "    t2.b()\n",
    "    print(\"this belongs to test2\")\n",
    "    \n",
    "t3 = test2()    \n",
    "t3.a()    "
   ]
  },
  {
   "cell_type": "code",
   "execution_count": null,
   "id": "bbc6ba94",
   "metadata": {},
   "outputs": [],
   "source": [
    "class iNeuron:\n",
    "    num_of_courses = 20\n",
    " \n",
    " \n",
    "class Datascience(iNeuron):\n",
    "    course_type = 'Data-Science'\n",
    " \n",
    " \n",
    "class AI(Datascience):\n",
    "    def __init__(self):\n",
    "        self.company = \"iNeuron\"\n",
    "       #print('The company {0} offers total {1} different types of courses. Most trending course is {2}'.format(self.company,self.num_of_courses,self.course_type))\n",
    "        print(f\"The company {self.company} offers {self.num_of_courses} courses and the most trending course is {self.course_type}\")\n",
    " \n",
    " \n",
    "A_I = AI()"
   ]
  },
  {
   "cell_type": "code",
   "execution_count": null,
   "id": "2f103fae",
   "metadata": {},
   "outputs": [],
   "source": [
    "try:\n",
    "  print(x)\n",
    "except NameError:\n",
    "  print(\"Variable x is not defined\")\n",
    "except:\n",
    "  print(\"Something else went wrong\")"
   ]
  },
  {
   "cell_type": "code",
   "execution_count": null,
   "id": "65859461",
   "metadata": {},
   "outputs": [],
   "source": [
    "a= \"sxkjddkwqojd\"\n",
    "print(a)"
   ]
  },
  {
   "cell_type": "code",
   "execution_count": null,
   "id": "626ba2c5",
   "metadata": {},
   "outputs": [],
   "source": []
  },
  {
   "cell_type": "code",
   "execution_count": null,
   "id": "e56eaa1c",
   "metadata": {},
   "outputs": [],
   "source": []
  },
  {
   "cell_type": "code",
   "execution_count": null,
   "id": "ba78ee47",
   "metadata": {},
   "outputs": [],
   "source": []
  },
  {
   "cell_type": "code",
   "execution_count": null,
   "id": "97d3cccc",
   "metadata": {},
   "outputs": [],
   "source": []
  },
  {
   "cell_type": "code",
   "execution_count": null,
   "id": "ad2e3214",
   "metadata": {},
   "outputs": [],
   "source": []
  },
  {
   "cell_type": "code",
   "execution_count": null,
   "id": "efd0cb2f",
   "metadata": {},
   "outputs": [],
   "source": []
  }
 ],
 "metadata": {
  "kernelspec": {
   "display_name": "Python 3 (ipykernel)",
   "language": "python",
   "name": "python3"
  },
  "language_info": {
   "codemirror_mode": {
    "name": "ipython",
    "version": 3
   },
   "file_extension": ".py",
   "mimetype": "text/x-python",
   "name": "python",
   "nbconvert_exporter": "python",
   "pygments_lexer": "ipython3",
   "version": "3.9.7"
  }
 },
 "nbformat": 4,
 "nbformat_minor": 5
}
