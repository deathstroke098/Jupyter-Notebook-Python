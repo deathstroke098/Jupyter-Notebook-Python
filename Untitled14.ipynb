{
 "cells": [
  {
   "cell_type": "code",
   "execution_count": 1,
   "id": "9f969018",
   "metadata": {},
   "outputs": [
    {
     "name": "stdout",
     "output_type": "stream",
     "text": [
      "dnsjdsjdsa\n"
     ]
    }
   ],
   "source": [
    "print(\"dnsjdsjdsa\")"
   ]
  },
  {
   "cell_type": "code",
   "execution_count": null,
   "id": "497d867b",
   "metadata": {},
   "outputs": [],
   "source": [
    "class dictionary_parsing:\n",
    "    \n",
    "    def all_keys(self):\n",
    "        return all_keys\n",
    "    \n",
    "    def all_values(self):\n",
    "        return all_values\n",
    "    \n",
    "    def try_and_except:\n",
    "        try :\n",
    "            a =int(input(\"Enter the dictionary here please : \"))\n",
    "            if try_and_except ==  dictionary:\n",
    "                print(\"you have entered wrong\")\n",
    "                \n",
    "            except Exception as e :\n",
    "                print(\"error have been handled \" , str(e))\n",
    "                \n",
    "                \n",
    "                \n",
    "                \n",
    "                \n",
    "                \n",
    "                \n",
    "    "
   ]
  }
 ],
 "metadata": {
  "kernelspec": {
   "display_name": "Python 3 (ipykernel)",
   "language": "python",
   "name": "python3"
  },
  "language_info": {
   "codemirror_mode": {
    "name": "ipython",
    "version": 3
   },
   "file_extension": ".py",
   "mimetype": "text/x-python",
   "name": "python",
   "nbconvert_exporter": "python",
   "pygments_lexer": "ipython3",
   "version": "3.9.7"
  }
 },
 "nbformat": 4,
 "nbformat_minor": 5
}
